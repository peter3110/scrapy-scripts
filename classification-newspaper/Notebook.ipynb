{
 "cells": [
  {
   "cell_type": "code",
   "execution_count": 1,
   "metadata": {},
   "outputs": [
    {
     "name": "stderr",
     "output_type": "stream",
     "text": [
      "/System/Library/Frameworks/Python.framework/Versions/2.7/Extras/lib/python/scipy/integrate/quadpack.py:293: UserWarning: Extremely bad integrand behavior occurs at some points of the\n",
      "  integration interval.\n",
      "  warnings.warn(msg)\n"
     ]
    }
   ],
   "source": [
    "import pprint\n",
    "import json\n",
    "import re\n",
    "from nltk.stem.snowball import SpanishStemmer\n",
    "from sklearn.feature_extraction.text import CountVectorizer\n",
    "from sklearn.cluster import KMeans\n",
    "import pickle\n",
    "import numpy as np\n",
    "from sklearn.decomposition import PCA\n",
    "import matplotlib.pyplot as plt\n",
    "from mvpa2.suite import *"
   ]
  },
  {
   "cell_type": "code",
   "execution_count": 2,
   "metadata": {
    "collapsed": true
   },
   "outputs": [],
   "source": [
    "with open('v2-2017-01-23.json') as json_data:\n",
    "    d = json.load(json_data)\n",
    "    stemmer = SpanishStemmer()\n",
    "    articleTitles = []\n",
    "    originalArticleTitles = []\n",
    "    for art in d['articulos']:\n",
    "        # For each article:\n",
    "        originalArticleTitles.append(art['titulo'])\n",
    "        categoria = art['categoria']\n",
    "        titulo = art['titulo'].split(' ')\n",
    "        texto = art['texto'].split(' ')\n",
    "        sentence = texto\n",
    "        # Get the article's title\n",
    "        for i, word in enumerate(sentence):\n",
    "            # For each word in the title of the article stem it and encode it correctly\n",
    "            sentence[i] = stemmer.stem(word).encode('utf8')\n",
    "        sentence = (' ').join(sentence)\n",
    "        sentence = re.sub('[^A-Za-z0-9]+',' ', sentence)\n",
    "        articleTitles.append(sentence)\n",
    "        #print sentence\t\n",
    "        #print articleTitles"
   ]
  },
  {
   "cell_type": "code",
   "execution_count": 3,
   "metadata": {},
   "outputs": [
    {
     "name": "stdout",
     "output_type": "stream",
     "text": [
      "We have a total of  326  titulos de articulos\n"
     ]
    }
   ],
   "source": [
    "print \"We have a total of \", len(articleTitles), \" titulos de articulos\"\n",
    "count_vect = CountVectorizer()\n",
    "X_train_counts = count_vect.fit_transform(articleTitles)"
   ]
  },
  {
   "cell_type": "code",
   "execution_count": 4,
   "metadata": {},
   "outputs": [
    {
     "name": "stdout",
     "output_type": "stream",
     "text": [
      "The resulting matrix is of shape:  (326, 18298)\n"
     ]
    }
   ],
   "source": [
    "X_train_counts = np.array(X_train_counts.todense())\n",
    "print \"The resulting matrix is of shape: \", X_train_counts.shape\n",
    "#print count_vect.vocabulary_"
   ]
  },
  {
   "cell_type": "code",
   "execution_count": 5,
   "metadata": {
    "collapsed": true
   },
   "outputs": [],
   "source": [
    "reduced_data = PCA(n_components=2).fit_transform(X_train_counts)"
   ]
  },
  {
   "cell_type": "code",
   "execution_count": 6,
   "metadata": {},
   "outputs": [
    {
     "name": "stdout",
     "output_type": "stream",
     "text": [
      "Training K-Means clustering model\n",
      "[[  1.73087287e+02   1.23082174e+01]\n",
      " [ -3.97224584e+01   8.05177072e-01]\n",
      " [ -7.40013155e+00  -8.14598212e-01]\n",
      " [  2.80315304e+01   9.75694486e-02]\n",
      " [  7.29566194e+01  -3.28429617e+00]]\n"
     ]
    }
   ],
   "source": [
    "# UNSUPERVISED CLUSTERING KMEANS\n",
    "# Clustering on PCA-reduce data\n",
    "print \"Training K-Means clustering model\"\n",
    "kmeans = KMeans(n_clusters=5, random_state=0).fit(reduced_data)\n",
    "#print kmeans.labels_\n",
    "print kmeans.cluster_centers_"
   ]
  },
  {
   "cell_type": "code",
   "execution_count": 45,
   "metadata": {
    "collapsed": true
   },
   "outputs": [],
   "source": [
    "# PLOT K-MEANS\n",
    "# Step size of the mesh. Decrease to increase the quality of the VQ.\n",
    "h = .02     # point in the mesh [x_min, x_max]x[y_min, y_max].\n",
    "\n",
    "# Plot the decision boundary. For that, we will assign a color to each\n",
    "x_min, x_max = reduced_data[:, 0].min() - 1, reduced_data[:, 0].max() + 1\n",
    "y_min, y_max = reduced_data[:, 1].min() - 1, reduced_data[:, 1].max() + 1\n",
    "xx, yy = np.meshgrid(np.arange(x_min, x_max, h), np.arange(y_min, y_max, h))\n",
    "# Obtain labels for each point in mesh. Use last trained model.\n",
    "Z = kmeans.predict(np.c_[xx.ravel(), yy.ravel()])\n",
    "\n",
    "# Put the result into a color plot\n",
    "Z = Z.reshape(xx.shape)\n",
    "plt.figure(1)\n",
    "plt.clf()\n",
    "plt.imshow(Z, interpolation='nearest',\n",
    "           extent=(xx.min(), xx.max(), yy.min(), yy.max()),\n",
    "           cmap=plt.cm.Paired,\n",
    "           aspect='auto', origin='lower')\n",
    "\n",
    "plt.plot(reduced_data[:, 0], reduced_data[:, 1], 'k.', markersize=2)\n",
    "# Plot the centroids as a white X\n",
    "centroids = kmeans.cluster_centers_\n",
    "plt.scatter(centroids[:, 0], centroids[:, 1],\n",
    "            marker='x', s=169, linewidths=3,\n",
    "            color='w', zorder=10)\n",
    "plt.title('K-means clustering on the document dataset (PCA-reduced data)\\n'\n",
    "          'Centroids are marked with white cross')\n",
    "plt.xlim(x_min, x_max)\n",
    "plt.ylim(y_min, y_max)\n",
    "plt.xticks(())\n",
    "plt.yticks(())\n",
    "plt.show()"
   ]
  },
  {
   "cell_type": "code",
   "execution_count": 8,
   "metadata": {},
   "outputs": [
    {
     "name": "stdout",
     "output_type": "stream",
     "text": [
      " Number of documents:  326\n"
     ]
    }
   ],
   "source": [
    "# UNSUPERVISED CLUSTERING SOM\n",
    "nIterations = 5\n",
    "som = SimpleSOMMapper((20, 30), nIterations, learning_rate=0.05)\n",
    "\n",
    "# X_train_counts is alraedy a np.array(denseMatrix)\n",
    "som.train(X_train_counts)\n",
    "mapped = som(X_train_counts)\n",
    "\n",
    "print \"Number of documents: \", len(mapped)"
   ]
  },
  {
   "cell_type": "code",
   "execution_count": 9,
   "metadata": {},
   "outputs": [
    {
     "name": "stdout",
     "output_type": "stream",
     "text": [
      "Mapped 300:  [0 8]\n",
      "Mapped 301:  [ 7 21]\n",
      "Mapped 302:  [8 2]\n",
      "Mapped 303:  [13 19]\n"
     ]
    }
   ],
   "source": [
    "print \"Mapped 300: \", mapped[300]\n",
    "print \"Mapped 301: \", mapped[301]\n",
    "print \"Mapped 302: \", mapped[302]\n",
    "print \"Mapped 303: \", mapped[303]"
   ]
  },
  {
   "cell_type": "code",
   "execution_count": null,
   "metadata": {
    "collapsed": true
   },
   "outputs": [],
   "source": []
  }
 ],
 "metadata": {
  "kernelspec": {
   "display_name": "Python 2",
   "language": "python",
   "name": "python2"
  },
  "language_info": {
   "codemirror_mode": {
    "name": "ipython",
    "version": 2
   },
   "file_extension": ".py",
   "mimetype": "text/x-python",
   "name": "python",
   "nbconvert_exporter": "python",
   "pygments_lexer": "ipython2",
   "version": "2.7.10"
  }
 },
 "nbformat": 4,
 "nbformat_minor": 2
}
